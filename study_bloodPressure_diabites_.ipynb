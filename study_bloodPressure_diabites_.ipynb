{
 "cells": [
  {
   "cell_type": "code",
   "execution_count": 1,
   "id": "6baa4782",
   "metadata": {},
   "outputs": [],
   "source": [
    "import numpy as np \n",
    "import matplotlib.pyplot as plt \n",
    "import pandas as pd \n",
    "import seaborn as sns "
   ]
  },
  {
   "cell_type": "code",
   "execution_count": 2,
   "id": "0a7b0408",
   "metadata": {},
   "outputs": [
    {
     "data": {
      "text/html": [
       "<div>\n",
       "<style scoped>\n",
       "    .dataframe tbody tr th:only-of-type {\n",
       "        vertical-align: middle;\n",
       "    }\n",
       "\n",
       "    .dataframe tbody tr th {\n",
       "        vertical-align: top;\n",
       "    }\n",
       "\n",
       "    .dataframe thead th {\n",
       "        text-align: right;\n",
       "    }\n",
       "</style>\n",
       "<table border=\"1\" class=\"dataframe\">\n",
       "  <thead>\n",
       "    <tr style=\"text-align: right;\">\n",
       "      <th></th>\n",
       "      <th>Gender</th>\n",
       "      <th>Age</th>\n",
       "      <th>Blood Pressure (mmHg)</th>\n",
       "      <th>Cholesterol (mg/dL)</th>\n",
       "      <th>Has Diabetes</th>\n",
       "      <th>Smoking Status</th>\n",
       "      <th>Chest Pain Type</th>\n",
       "      <th>Treatment</th>\n",
       "    </tr>\n",
       "  </thead>\n",
       "  <tbody>\n",
       "    <tr>\n",
       "      <th>0</th>\n",
       "      <td>Male</td>\n",
       "      <td>70</td>\n",
       "      <td>181</td>\n",
       "      <td>262</td>\n",
       "      <td>No</td>\n",
       "      <td>Never</td>\n",
       "      <td>Typical Angina</td>\n",
       "      <td>Lifestyle Changes</td>\n",
       "    </tr>\n",
       "    <tr>\n",
       "      <th>1</th>\n",
       "      <td>Female</td>\n",
       "      <td>55</td>\n",
       "      <td>103</td>\n",
       "      <td>253</td>\n",
       "      <td>Yes</td>\n",
       "      <td>Never</td>\n",
       "      <td>Atypical Angina</td>\n",
       "      <td>Angioplasty</td>\n",
       "    </tr>\n",
       "    <tr>\n",
       "      <th>2</th>\n",
       "      <td>Male</td>\n",
       "      <td>42</td>\n",
       "      <td>95</td>\n",
       "      <td>295</td>\n",
       "      <td>Yes</td>\n",
       "      <td>Current</td>\n",
       "      <td>Typical Angina</td>\n",
       "      <td>Angioplasty</td>\n",
       "    </tr>\n",
       "    <tr>\n",
       "      <th>3</th>\n",
       "      <td>Male</td>\n",
       "      <td>84</td>\n",
       "      <td>106</td>\n",
       "      <td>270</td>\n",
       "      <td>No</td>\n",
       "      <td>Never</td>\n",
       "      <td>Atypical Angina</td>\n",
       "      <td>Coronary Artery Bypass Graft (CABG)</td>\n",
       "    </tr>\n",
       "  </tbody>\n",
       "</table>\n",
       "</div>"
      ],
      "text/plain": [
       "   Gender  Age  Blood Pressure (mmHg)  Cholesterol (mg/dL) Has Diabetes  \\\n",
       "0    Male   70                    181                  262           No   \n",
       "1  Female   55                    103                  253          Yes   \n",
       "2    Male   42                     95                  295          Yes   \n",
       "3    Male   84                    106                  270           No   \n",
       "\n",
       "  Smoking Status  Chest Pain Type                            Treatment  \n",
       "0          Never   Typical Angina                    Lifestyle Changes  \n",
       "1          Never  Atypical Angina                          Angioplasty  \n",
       "2        Current   Typical Angina                          Angioplasty  \n",
       "3          Never  Atypical Angina  Coronary Artery Bypass Graft (CABG)  "
      ]
     },
     "execution_count": 2,
     "metadata": {},
     "output_type": "execute_result"
    }
   ],
   "source": [
    "df=pd.read_csv('heart_attack_dataset.csv')\n",
    "df.head(4)"
   ]
  },
  {
   "cell_type": "markdown",
   "id": "dd5db5da",
   "metadata": {},
   "source": [
    "#to drop some column or line df.drop(['gender',..],axis=1) to delete gender for lines ['0',...] and axis=0\n",
    "#to know the size of your table use df.size\n",
    "#to know the name of colums df.column\n",
    "#data.describe() give mean,min,......"
   ]
  },
  {
   "cell_type": "code",
   "execution_count": 3,
   "id": "7f25d170",
   "metadata": {},
   "outputs": [
    {
     "data": {
      "text/html": [
       "<div>\n",
       "<style scoped>\n",
       "    .dataframe tbody tr th:only-of-type {\n",
       "        vertical-align: middle;\n",
       "    }\n",
       "\n",
       "    .dataframe tbody tr th {\n",
       "        vertical-align: top;\n",
       "    }\n",
       "\n",
       "    .dataframe thead th {\n",
       "        text-align: right;\n",
       "    }\n",
       "</style>\n",
       "<table border=\"1\" class=\"dataframe\">\n",
       "  <thead>\n",
       "    <tr style=\"text-align: right;\">\n",
       "      <th></th>\n",
       "      <th>Gender</th>\n",
       "      <th>Age</th>\n",
       "      <th>Blood Pressure (mmHg)</th>\n",
       "      <th>Has Diabetes</th>\n",
       "      <th>Smoking Status</th>\n",
       "    </tr>\n",
       "  </thead>\n",
       "  <tbody>\n",
       "    <tr>\n",
       "      <th>0</th>\n",
       "      <td>Male</td>\n",
       "      <td>70</td>\n",
       "      <td>181</td>\n",
       "      <td>No</td>\n",
       "      <td>Never</td>\n",
       "    </tr>\n",
       "    <tr>\n",
       "      <th>1</th>\n",
       "      <td>Female</td>\n",
       "      <td>55</td>\n",
       "      <td>103</td>\n",
       "      <td>Yes</td>\n",
       "      <td>Never</td>\n",
       "    </tr>\n",
       "    <tr>\n",
       "      <th>2</th>\n",
       "      <td>Male</td>\n",
       "      <td>42</td>\n",
       "      <td>95</td>\n",
       "      <td>Yes</td>\n",
       "      <td>Current</td>\n",
       "    </tr>\n",
       "    <tr>\n",
       "      <th>3</th>\n",
       "      <td>Male</td>\n",
       "      <td>84</td>\n",
       "      <td>106</td>\n",
       "      <td>No</td>\n",
       "      <td>Never</td>\n",
       "    </tr>\n",
       "    <tr>\n",
       "      <th>4</th>\n",
       "      <td>Male</td>\n",
       "      <td>86</td>\n",
       "      <td>187</td>\n",
       "      <td>Yes</td>\n",
       "      <td>Current</td>\n",
       "    </tr>\n",
       "    <tr>\n",
       "      <th>...</th>\n",
       "      <td>...</td>\n",
       "      <td>...</td>\n",
       "      <td>...</td>\n",
       "      <td>...</td>\n",
       "      <td>...</td>\n",
       "    </tr>\n",
       "    <tr>\n",
       "      <th>995</th>\n",
       "      <td>Male</td>\n",
       "      <td>42</td>\n",
       "      <td>125</td>\n",
       "      <td>Yes</td>\n",
       "      <td>Current</td>\n",
       "    </tr>\n",
       "    <tr>\n",
       "      <th>996</th>\n",
       "      <td>Male</td>\n",
       "      <td>80</td>\n",
       "      <td>186</td>\n",
       "      <td>Yes</td>\n",
       "      <td>Never</td>\n",
       "    </tr>\n",
       "    <tr>\n",
       "      <th>997</th>\n",
       "      <td>Female</td>\n",
       "      <td>64</td>\n",
       "      <td>108</td>\n",
       "      <td>Yes</td>\n",
       "      <td>Current</td>\n",
       "    </tr>\n",
       "    <tr>\n",
       "      <th>998</th>\n",
       "      <td>Female</td>\n",
       "      <td>84</td>\n",
       "      <td>123</td>\n",
       "      <td>No</td>\n",
       "      <td>Current</td>\n",
       "    </tr>\n",
       "    <tr>\n",
       "      <th>999</th>\n",
       "      <td>Male</td>\n",
       "      <td>61</td>\n",
       "      <td>155</td>\n",
       "      <td>No</td>\n",
       "      <td>Former</td>\n",
       "    </tr>\n",
       "  </tbody>\n",
       "</table>\n",
       "<p>1000 rows × 5 columns</p>\n",
       "</div>"
      ],
      "text/plain": [
       "     Gender  Age  Blood Pressure (mmHg) Has Diabetes Smoking Status\n",
       "0      Male   70                    181           No          Never\n",
       "1    Female   55                    103          Yes          Never\n",
       "2      Male   42                     95          Yes        Current\n",
       "3      Male   84                    106           No          Never\n",
       "4      Male   86                    187          Yes        Current\n",
       "..      ...  ...                    ...          ...            ...\n",
       "995    Male   42                    125          Yes        Current\n",
       "996    Male   80                    186          Yes          Never\n",
       "997  Female   64                    108          Yes        Current\n",
       "998  Female   84                    123           No        Current\n",
       "999    Male   61                    155           No         Former\n",
       "\n",
       "[1000 rows x 5 columns]"
      ]
     },
     "execution_count": 3,
     "metadata": {},
     "output_type": "execute_result"
    }
   ],
   "source": [
    "di=df.drop(['Cholesterol (mg/dL)','Chest Pain Type','Treatment'], axis=1)\n",
    "di"
   ]
  },
  {
   "cell_type": "code",
   "execution_count": 4,
   "id": "0b40adda",
   "metadata": {},
   "outputs": [
    {
     "data": {
      "text/html": [
       "<div>\n",
       "<style scoped>\n",
       "    .dataframe tbody tr th:only-of-type {\n",
       "        vertical-align: middle;\n",
       "    }\n",
       "\n",
       "    .dataframe tbody tr th {\n",
       "        vertical-align: top;\n",
       "    }\n",
       "\n",
       "    .dataframe thead th {\n",
       "        text-align: right;\n",
       "    }\n",
       "</style>\n",
       "<table border=\"1\" class=\"dataframe\">\n",
       "  <thead>\n",
       "    <tr style=\"text-align: right;\">\n",
       "      <th></th>\n",
       "      <th>Age</th>\n",
       "      <th>Blood Pressure (mmHg)</th>\n",
       "    </tr>\n",
       "  </thead>\n",
       "  <tbody>\n",
       "    <tr>\n",
       "      <th>count</th>\n",
       "      <td>1000.000000</td>\n",
       "      <td>1000.000000</td>\n",
       "    </tr>\n",
       "    <tr>\n",
       "      <th>mean</th>\n",
       "      <td>60.338000</td>\n",
       "      <td>145.440000</td>\n",
       "    </tr>\n",
       "    <tr>\n",
       "      <th>std</th>\n",
       "      <td>17.317496</td>\n",
       "      <td>31.756525</td>\n",
       "    </tr>\n",
       "    <tr>\n",
       "      <th>min</th>\n",
       "      <td>30.000000</td>\n",
       "      <td>90.000000</td>\n",
       "    </tr>\n",
       "    <tr>\n",
       "      <th>25%</th>\n",
       "      <td>45.000000</td>\n",
       "      <td>118.000000</td>\n",
       "    </tr>\n",
       "    <tr>\n",
       "      <th>50%</th>\n",
       "      <td>60.500000</td>\n",
       "      <td>146.000000</td>\n",
       "    </tr>\n",
       "    <tr>\n",
       "      <th>75%</th>\n",
       "      <td>76.000000</td>\n",
       "      <td>173.000000</td>\n",
       "    </tr>\n",
       "    <tr>\n",
       "      <th>max</th>\n",
       "      <td>89.000000</td>\n",
       "      <td>199.000000</td>\n",
       "    </tr>\n",
       "  </tbody>\n",
       "</table>\n",
       "</div>"
      ],
      "text/plain": [
       "               Age  Blood Pressure (mmHg)\n",
       "count  1000.000000            1000.000000\n",
       "mean     60.338000             145.440000\n",
       "std      17.317496              31.756525\n",
       "min      30.000000              90.000000\n",
       "25%      45.000000             118.000000\n",
       "50%      60.500000             146.000000\n",
       "75%      76.000000             173.000000\n",
       "max      89.000000             199.000000"
      ]
     },
     "execution_count": 4,
     "metadata": {},
     "output_type": "execute_result"
    }
   ],
   "source": [
    "di.describe()"
   ]
  },
  {
   "cell_type": "code",
   "execution_count": 5,
   "id": "84743d43",
   "metadata": {},
   "outputs": [],
   "source": [
    "# here we have not a nan value but if it is the case we can use df.fillna(df['Age'].mean) for replace with the mean \n",
    "#df.dropna(axis=0) to delete lines with nan values "
   ]
  },
  {
   "cell_type": "code",
   "execution_count": 6,
   "id": "597f447f",
   "metadata": {},
   "outputs": [
    {
     "data": {
      "image/png": "[encoded data removed]",
      "text/plain": [
       "<Figure size 1500x800 with 1 Axes>"
      ]
     },
     "metadata": {},
     "output_type": "display_data"
    }
   ],
   "source": [
    "plt.figure(figsize=(15,8))\n",
    "\n",
    "a=df['Age'].value_counts().plot.bar()\n",
    "\n",
    "\n"
   ]
  },
  {
   "cell_type": "code",
   "execution_count": 7,
   "id": "ea848644",
   "metadata": {},
   "outputs": [
    {
     "data": {
      "text/html": [
       "<div>\n",
       "<style scoped>\n",
       "    .dataframe tbody tr th:only-of-type {\n",
       "        vertical-align: middle;\n",
       "    }\n",
       "\n",
       "    .dataframe tbody tr th {\n",
       "        vertical-align: top;\n",
       "    }\n",
       "\n",
       "    .dataframe thead th {\n",
       "        text-align: right;\n",
       "    }\n",
       "</style>\n",
       "<table border=\"1\" class=\"dataframe\">\n",
       "  <thead>\n",
       "    <tr style=\"text-align: right;\">\n",
       "      <th></th>\n",
       "      <th></th>\n",
       "      <th></th>\n",
       "      <th>Age</th>\n",
       "      <th>Blood Pressure (mmHg)</th>\n",
       "    </tr>\n",
       "    <tr>\n",
       "      <th>Gender</th>\n",
       "      <th>Has Diabetes</th>\n",
       "      <th>Smoking Status</th>\n",
       "      <th></th>\n",
       "      <th></th>\n",
       "    </tr>\n",
       "  </thead>\n",
       "  <tbody>\n",
       "    <tr>\n",
       "      <th rowspan=\"6\" valign=\"top\">Female</th>\n",
       "      <th rowspan=\"3\" valign=\"top\">No</th>\n",
       "      <th>Current</th>\n",
       "      <td>60.795455</td>\n",
       "      <td>144.318182</td>\n",
       "    </tr>\n",
       "    <tr>\n",
       "      <th>Former</th>\n",
       "      <td>62.073529</td>\n",
       "      <td>149.000000</td>\n",
       "    </tr>\n",
       "    <tr>\n",
       "      <th>Never</th>\n",
       "      <td>60.578313</td>\n",
       "      <td>141.289157</td>\n",
       "    </tr>\n",
       "    <tr>\n",
       "      <th rowspan=\"3\" valign=\"top\">Yes</th>\n",
       "      <th>Current</th>\n",
       "      <td>59.400000</td>\n",
       "      <td>150.200000</td>\n",
       "    </tr>\n",
       "    <tr>\n",
       "      <th>Former</th>\n",
       "      <td>59.653061</td>\n",
       "      <td>145.183673</td>\n",
       "    </tr>\n",
       "    <tr>\n",
       "      <th>Never</th>\n",
       "      <td>61.102273</td>\n",
       "      <td>141.659091</td>\n",
       "    </tr>\n",
       "    <tr>\n",
       "      <th rowspan=\"6\" valign=\"top\">Male</th>\n",
       "      <th rowspan=\"3\" valign=\"top\">No</th>\n",
       "      <th>Current</th>\n",
       "      <td>58.000000</td>\n",
       "      <td>145.118421</td>\n",
       "    </tr>\n",
       "    <tr>\n",
       "      <th>Former</th>\n",
       "      <td>60.565789</td>\n",
       "      <td>147.486842</td>\n",
       "    </tr>\n",
       "    <tr>\n",
       "      <th>Never</th>\n",
       "      <td>59.532609</td>\n",
       "      <td>149.032609</td>\n",
       "    </tr>\n",
       "    <tr>\n",
       "      <th rowspan=\"3\" valign=\"top\">Yes</th>\n",
       "      <th>Current</th>\n",
       "      <td>60.039474</td>\n",
       "      <td>141.197368</td>\n",
       "    </tr>\n",
       "    <tr>\n",
       "      <th>Former</th>\n",
       "      <td>62.456790</td>\n",
       "      <td>149.333333</td>\n",
       "    </tr>\n",
       "    <tr>\n",
       "      <th>Never</th>\n",
       "      <td>60.191011</td>\n",
       "      <td>142.067416</td>\n",
       "    </tr>\n",
       "  </tbody>\n",
       "</table>\n",
       "</div>"
      ],
      "text/plain": [
       "                                          Age  Blood Pressure (mmHg)\n",
       "Gender Has Diabetes Smoking Status                                  \n",
       "Female No           Current         60.795455             144.318182\n",
       "                    Former          62.073529             149.000000\n",
       "                    Never           60.578313             141.289157\n",
       "       Yes          Current         59.400000             150.200000\n",
       "                    Former          59.653061             145.183673\n",
       "                    Never           61.102273             141.659091\n",
       "Male   No           Current         58.000000             145.118421\n",
       "                    Former          60.565789             147.486842\n",
       "                    Never           59.532609             149.032609\n",
       "       Yes          Current         60.039474             141.197368\n",
       "                    Former          62.456790             149.333333\n",
       "                    Never           60.191011             142.067416"
      ]
     },
     "execution_count": 7,
     "metadata": {},
     "output_type": "execute_result"
    }
   ],
   "source": [
    "#groupby() : grouping samples through the some feature \n",
    "di.groupby(['Gender','Has Diabetes','Smoking Status']).mean()"
   ]
  },
  {
   "cell_type": "markdown",
   "id": "e6519bd5",
   "metadata": {},
   "source": [
    "### Dict['key'] =valeur\n",
    "$\\vspace{2cm}$\n",
    " \n",
    " \n",
    "### the table pandas is a sum of series(column) that we add an index we change that index(which the role is to be a key object for the defferent value of the séries "
   ]
  },
  {
   "cell_type": "markdown",
   "id": "99f151e4",
   "metadata": {},
   "source": [
    "\n",
    "##### function iloc[: , : ]on peut faire de l'indexing comme numpyt \n",
    "##### d[d['age']] <70    boolean indexing  section of the samples with ages lower than 70\n",
    "##### d['age'] <70 mask \n",
    "##### d[['age','blood pressure']] that's a dataframe \n",
    "##### function loc tha same thing like iloc function but we work with iloc[0:2, 'age',...........]"
   ]
  },
  {
   "cell_type": "code",
   "execution_count": 8,
   "id": "59653308",
   "metadata": {},
   "outputs": [],
   "source": [
    "\n",
    "c_2=di[(di['Age']<80) & (di['Age']>70)]\n"
   ]
  },
  {
   "cell_type": "code",
   "execution_count": 9,
   "id": "8b7f28f3",
   "metadata": {},
   "outputs": [],
   "source": [
    "c_3=di[di['Age']>80]\n",
    "c_1=di[di['Age']<70]"
   ]
  },
  {
   "cell_type": "code",
   "execution_count": 10,
   "id": "1aaea599",
   "metadata": {},
   "outputs": [
    {
     "data": {
      "text/html": [
       "<div>\n",
       "<style scoped>\n",
       "    .dataframe tbody tr th:only-of-type {\n",
       "        vertical-align: middle;\n",
       "    }\n",
       "\n",
       "    .dataframe tbody tr th {\n",
       "        vertical-align: top;\n",
       "    }\n",
       "\n",
       "    .dataframe thead th {\n",
       "        text-align: right;\n",
       "    }\n",
       "</style>\n",
       "<table border=\"1\" class=\"dataframe\">\n",
       "  <thead>\n",
       "    <tr style=\"text-align: right;\">\n",
       "      <th></th>\n",
       "      <th>Age</th>\n",
       "      <th>Blood Pressure (mmHg)</th>\n",
       "    </tr>\n",
       "  </thead>\n",
       "  <tbody>\n",
       "    <tr>\n",
       "      <th>count</th>\n",
       "      <td>635.000000</td>\n",
       "      <td>635.000000</td>\n",
       "    </tr>\n",
       "    <tr>\n",
       "      <th>mean</th>\n",
       "      <td>49.406299</td>\n",
       "      <td>144.943307</td>\n",
       "    </tr>\n",
       "    <tr>\n",
       "      <th>std</th>\n",
       "      <td>11.199311</td>\n",
       "      <td>31.619384</td>\n",
       "    </tr>\n",
       "    <tr>\n",
       "      <th>min</th>\n",
       "      <td>30.000000</td>\n",
       "      <td>90.000000</td>\n",
       "    </tr>\n",
       "    <tr>\n",
       "      <th>25%</th>\n",
       "      <td>40.000000</td>\n",
       "      <td>118.000000</td>\n",
       "    </tr>\n",
       "    <tr>\n",
       "      <th>50%</th>\n",
       "      <td>49.000000</td>\n",
       "      <td>145.000000</td>\n",
       "    </tr>\n",
       "    <tr>\n",
       "      <th>75%</th>\n",
       "      <td>58.500000</td>\n",
       "      <td>172.000000</td>\n",
       "    </tr>\n",
       "    <tr>\n",
       "      <th>max</th>\n",
       "      <td>69.000000</td>\n",
       "      <td>199.000000</td>\n",
       "    </tr>\n",
       "  </tbody>\n",
       "</table>\n",
       "</div>"
      ],
      "text/plain": [
       "              Age  Blood Pressure (mmHg)\n",
       "count  635.000000             635.000000\n",
       "mean    49.406299             144.943307\n",
       "std     11.199311              31.619384\n",
       "min     30.000000              90.000000\n",
       "25%     40.000000             118.000000\n",
       "50%     49.000000             145.000000\n",
       "75%     58.500000             172.000000\n",
       "max     69.000000             199.000000"
      ]
     },
     "execution_count": 10,
     "metadata": {},
     "output_type": "execute_result"
    }
   ],
   "source": [
    "c_1.describe()"
   ]
  },
  {
   "cell_type": "code",
   "execution_count": 11,
   "id": "6ade0b76",
   "metadata": {},
   "outputs": [
    {
     "data": {
      "text/html": [
       "<div>\n",
       "<style scoped>\n",
       "    .dataframe tbody tr th:only-of-type {\n",
       "        vertical-align: middle;\n",
       "    }\n",
       "\n",
       "    .dataframe tbody tr th {\n",
       "        vertical-align: top;\n",
       "    }\n",
       "\n",
       "    .dataframe thead th {\n",
       "        text-align: right;\n",
       "    }\n",
       "</style>\n",
       "<table border=\"1\" class=\"dataframe\">\n",
       "  <thead>\n",
       "    <tr style=\"text-align: right;\">\n",
       "      <th></th>\n",
       "      <th>Age</th>\n",
       "      <th>Blood Pressure (mmHg)</th>\n",
       "    </tr>\n",
       "  </thead>\n",
       "  <tbody>\n",
       "    <tr>\n",
       "      <th>count</th>\n",
       "      <td>169.000000</td>\n",
       "      <td>169.000000</td>\n",
       "    </tr>\n",
       "    <tr>\n",
       "      <th>mean</th>\n",
       "      <td>74.899408</td>\n",
       "      <td>145.763314</td>\n",
       "    </tr>\n",
       "    <tr>\n",
       "      <th>std</th>\n",
       "      <td>2.702831</td>\n",
       "      <td>32.028683</td>\n",
       "    </tr>\n",
       "    <tr>\n",
       "      <th>min</th>\n",
       "      <td>71.000000</td>\n",
       "      <td>90.000000</td>\n",
       "    </tr>\n",
       "    <tr>\n",
       "      <th>25%</th>\n",
       "      <td>72.000000</td>\n",
       "      <td>117.000000</td>\n",
       "    </tr>\n",
       "    <tr>\n",
       "      <th>50%</th>\n",
       "      <td>75.000000</td>\n",
       "      <td>143.000000</td>\n",
       "    </tr>\n",
       "    <tr>\n",
       "      <th>75%</th>\n",
       "      <td>77.000000</td>\n",
       "      <td>171.000000</td>\n",
       "    </tr>\n",
       "    <tr>\n",
       "      <th>max</th>\n",
       "      <td>79.000000</td>\n",
       "      <td>199.000000</td>\n",
       "    </tr>\n",
       "  </tbody>\n",
       "</table>\n",
       "</div>"
      ],
      "text/plain": [
       "              Age  Blood Pressure (mmHg)\n",
       "count  169.000000             169.000000\n",
       "mean    74.899408             145.763314\n",
       "std      2.702831              32.028683\n",
       "min     71.000000              90.000000\n",
       "25%     72.000000             117.000000\n",
       "50%     75.000000             143.000000\n",
       "75%     77.000000             171.000000\n",
       "max     79.000000             199.000000"
      ]
     },
     "execution_count": 11,
     "metadata": {},
     "output_type": "execute_result"
    }
   ],
   "source": [
    "c_2.describe()"
   ]
  },
  {
   "cell_type": "code",
   "execution_count": 12,
   "id": "81b2f532",
   "metadata": {
    "scrolled": true
   },
   "outputs": [
    {
     "data": {
      "text/html": [
       "<div>\n",
       "<style scoped>\n",
       "    .dataframe tbody tr th:only-of-type {\n",
       "        vertical-align: middle;\n",
       "    }\n",
       "\n",
       "    .dataframe tbody tr th {\n",
       "        vertical-align: top;\n",
       "    }\n",
       "\n",
       "    .dataframe thead th {\n",
       "        text-align: right;\n",
       "    }\n",
       "</style>\n",
       "<table border=\"1\" class=\"dataframe\">\n",
       "  <thead>\n",
       "    <tr style=\"text-align: right;\">\n",
       "      <th></th>\n",
       "      <th>Age</th>\n",
       "      <th>Blood Pressure (mmHg)</th>\n",
       "    </tr>\n",
       "  </thead>\n",
       "  <tbody>\n",
       "    <tr>\n",
       "      <th>count</th>\n",
       "      <td>160.000000</td>\n",
       "      <td>160.000000</td>\n",
       "    </tr>\n",
       "    <tr>\n",
       "      <th>mean</th>\n",
       "      <td>84.981250</td>\n",
       "      <td>144.837500</td>\n",
       "    </tr>\n",
       "    <tr>\n",
       "      <th>std</th>\n",
       "      <td>2.548824</td>\n",
       "      <td>32.055158</td>\n",
       "    </tr>\n",
       "    <tr>\n",
       "      <th>min</th>\n",
       "      <td>81.000000</td>\n",
       "      <td>91.000000</td>\n",
       "    </tr>\n",
       "    <tr>\n",
       "      <th>25%</th>\n",
       "      <td>83.000000</td>\n",
       "      <td>119.750000</td>\n",
       "    </tr>\n",
       "    <tr>\n",
       "      <th>50%</th>\n",
       "      <td>85.000000</td>\n",
       "      <td>142.500000</td>\n",
       "    </tr>\n",
       "    <tr>\n",
       "      <th>75%</th>\n",
       "      <td>87.000000</td>\n",
       "      <td>171.500000</td>\n",
       "    </tr>\n",
       "    <tr>\n",
       "      <th>max</th>\n",
       "      <td>89.000000</td>\n",
       "      <td>199.000000</td>\n",
       "    </tr>\n",
       "  </tbody>\n",
       "</table>\n",
       "</div>"
      ],
      "text/plain": [
       "              Age  Blood Pressure (mmHg)\n",
       "count  160.000000             160.000000\n",
       "mean    84.981250             144.837500\n",
       "std      2.548824              32.055158\n",
       "min     81.000000              91.000000\n",
       "25%     83.000000             119.750000\n",
       "50%     85.000000             142.500000\n",
       "75%     87.000000             171.500000\n",
       "max     89.000000             199.000000"
      ]
     },
     "execution_count": 12,
     "metadata": {},
     "output_type": "execute_result"
    }
   ],
   "source": [
    "c_3.describe()"
   ]
  },
  {
   "cell_type": "code",
   "execution_count": 13,
   "id": "4ecbb1ef",
   "metadata": {},
   "outputs": [
    {
     "data": {
      "text/plain": [
       "Age\n",
       "0    635\n",
       "1    186\n",
       "2    179\n",
       "Name: count, dtype: int64"
      ]
     },
     "execution_count": 13,
     "metadata": {},
     "output_type": "execute_result"
    }
   ],
   "source": [
    "#pour classer les echantillons \n",
    "di.loc[di['Age']<70,'Age']= 0\n",
    "di.loc[(di['Age']>=70) & (di['Age']<80),'Age']=1\n",
    "di.loc[(di['Age']>=80), 'Age'] = 2\n",
    "di['Age'].value_counts()"
   ]
  },
  {
   "cell_type": "code",
   "execution_count": 14,
   "id": "aa5b1f04",
   "metadata": {},
   "outputs": [],
   "source": [
    "# know it is simple to work with this classification "
   ]
  },
  {
   "cell_type": "code",
   "execution_count": 15,
   "id": "f40b4156",
   "metadata": {},
   "outputs": [],
   "source": [
    "# la fonction map map(lambda x : f(x))"
   ]
  },
  {
   "cell_type": "code",
   "execution_count": 16,
   "id": "4546c5d6",
   "metadata": {},
   "outputs": [],
   "source": [
    "def category(Age) :\n",
    "    if Age<70 :\n",
    "        return '<70'\n",
    "    elif Age>=70 and age<80 :\n",
    "        return '70<=age<80'\n",
    "    elif Age>=80 :\n",
    "        return '>=80'"
   ]
  },
  {
   "cell_type": "markdown",
   "id": "eacbc048",
   "metadata": {},
   "source": [
    "## transformer les variable qualitatives en quantitatives pour faire de statistique"
   ]
  },
  {
   "cell_type": "code",
   "execution_count": 17,
   "id": "0790a4a1",
   "metadata": {},
   "outputs": [
    {
     "data": {
      "text/plain": [
       "0      <70\n",
       "1      <70\n",
       "2      <70\n",
       "3      <70\n",
       "4      <70\n",
       "      ... \n",
       "995    <70\n",
       "996    <70\n",
       "997    <70\n",
       "998    <70\n",
       "999    <70\n",
       "Name: Age, Length: 1000, dtype: object"
      ]
     },
     "execution_count": 17,
     "metadata": {},
     "output_type": "execute_result"
    }
   ],
   "source": [
    "di['Age'].map(category)"
   ]
  },
  {
   "cell_type": "code",
   "execution_count": 18,
   "id": "e3ae1584",
   "metadata": {},
   "outputs": [],
   "source": [
    "#pourquoi on peut pas faire ça avec de booleen indexing pa-ce-qu'il travaille sumiltanément \n",
    "#dans la première command on va changer certain ligne à des strings mais dnas la deuxieme command le program\n",
    " #va pas arriver à comparer des string avec des int ou des float "
   ]
  },
  {
   "cell_type": "code",
   "execution_count": 19,
   "id": "ec6aed05",
   "metadata": {},
   "outputs": [],
   "source": [
    "#il ya aussi la fonction apply qui peut faire la même chose mais sur toute la dataframe "
   ]
  },
  {
   "cell_type": "code",
   "execution_count": 20,
   "id": "efeca1ce",
   "metadata": {},
   "outputs": [],
   "source": [
    "b=di['Gender'].map({'Male':0, 'Female':1})"
   ]
  },
  {
   "cell_type": "code",
   "execution_count": 21,
   "id": "be869daf",
   "metadata": {},
   "outputs": [
    {
     "data": {
      "text/plain": [
       "0.51"
      ]
     },
     "execution_count": 21,
     "metadata": {},
     "output_type": "execute_result"
    }
   ],
   "source": [
    "b.mean()"
   ]
  },
  {
   "cell_type": "code",
   "execution_count": 22,
   "id": "dc835b15",
   "metadata": {},
   "outputs": [
    {
     "data": {
      "text/plain": [
       "0      0\n",
       "1      1\n",
       "2      0\n",
       "3      0\n",
       "4      0\n",
       "      ..\n",
       "995    0\n",
       "996    0\n",
       "997    1\n",
       "998    1\n",
       "999    0\n",
       "Name: Gender, Length: 1000, dtype: int64"
      ]
     },
     "execution_count": 22,
     "metadata": {},
     "output_type": "execute_result"
    }
   ],
   "source": [
    "di['Gender'].replace( ['Male','Female'], [0, 1]) # donne la même chose que map "
   ]
  },
  {
   "cell_type": "code",
   "execution_count": 23,
   "id": "9fadde8c",
   "metadata": {},
   "outputs": [
    {
     "data": {
      "text/plain": [
       "0        Male\n",
       "1      Female\n",
       "2        Male\n",
       "3        Male\n",
       "4        Male\n",
       "        ...  \n",
       "995      Male\n",
       "996      Male\n",
       "997    Female\n",
       "998    Female\n",
       "999      Male\n",
       "Name: Gender, Length: 1000, dtype: object"
      ]
     },
     "execution_count": 23,
     "metadata": {},
     "output_type": "execute_result"
    }
   ],
   "source": [
    "di['Gender'] # on remarque que le gender et de type object "
   ]
  },
  {
   "cell_type": "code",
   "execution_count": 24,
   "id": "98d14858",
   "metadata": {},
   "outputs": [
    {
     "data": {
      "text/plain": [
       "0      1\n",
       "1      0\n",
       "2      1\n",
       "3      1\n",
       "4      1\n",
       "      ..\n",
       "995    1\n",
       "996    1\n",
       "997    0\n",
       "998    0\n",
       "999    1\n",
       "Length: 1000, dtype: int8"
      ]
     },
     "execution_count": 24,
     "metadata": {},
     "output_type": "execute_result"
    }
   ],
   "source": [
    "di['Gender'].astype('category').cat.codes  # ça va automatiquement associé chaque category par un nombre, et c'est pourquoi la \n",
    "#cette methode et plus interessante "
   ]
  },
  {
   "cell_type": "code",
   "execution_count": 25,
   "id": "752715b4",
   "metadata": {},
   "outputs": [
    {
     "data": {
      "text/plain": [
       "0      True\n",
       "1      True\n",
       "2      True\n",
       "3      True\n",
       "4      True\n",
       "       ... \n",
       "995    True\n",
       "996    True\n",
       "997    True\n",
       "998    True\n",
       "999    True\n",
       "Name: Age, Length: 1000, dtype: bool"
      ]
     },
     "execution_count": 25,
     "metadata": {},
     "output_type": "execute_result"
    }
   ],
   "source": [
    "di['Age']<80"
   ]
  },
  {
   "cell_type": "code",
   "execution_count": 43,
   "id": "336e8750",
   "metadata": {},
   "outputs": [
    {
     "data": {
      "text/plain": [
       "Text(0.5, 1.0, 'relation between \"has diabetes and Smoking Status\" ')"
      ]
     },
     "execution_count": 43,
     "metadata": {},
     "output_type": "execute_result"
    },
    {
     "data": {
      "image/png": "[encoded data removed]",
      "text/plain": [
       "<Figure size 640x480 with 2 Axes>"
      ]
     },
     "metadata": {},
     "output_type": "display_data"
    }
   ],
   "source": [
    "cross_tab=pd.crosstab(di['Has Diabetes'],di['Smoking Status'])\n",
    "sns.heatmap(cross_tab,annot=True)\n",
    "plt.title('relation between \"has diabetes and Smoking Status\" ')"
   ]
  },
  {
   "cell_type": "code",
   "execution_count": 38,
   "id": "f88113c9",
   "metadata": {},
   "outputs": [
    {
     "name": "stderr",
     "output_type": "stream",
     "text": [
      "E:\\anaconda\\Lib\\site-packages\\seaborn\\_oldcore.py:1119: FutureWarning: use_inf_as_na option is deprecated and will be removed in a future version. Convert inf values to NaN before operating instead.\n",
      "  with pd.option_context('mode.use_inf_as_na', True):\n",
      "E:\\anaconda\\Lib\\site-packages\\seaborn\\_oldcore.py:1119: FutureWarning: use_inf_as_na option is deprecated and will be removed in a future version. Convert inf values to NaN before operating instead.\n",
      "  with pd.option_context('mode.use_inf_as_na', True):\n"
     ]
    },
    {
     "data": {
      "text/plain": [
       "<seaborn.axisgrid.FacetGrid at 0x21ce8ba5e90>"
      ]
     },
     "execution_count": 38,
     "metadata": {},
     "output_type": "execute_result"
    },
    {
     "data": {
      "image/png": "[encoded data removed]",
      "text/plain": [
       "<Figure size 500x500 with 1 Axes>"
      ]
     },
     "metadata": {},
     "output_type": "display_data"
    }
   ],
   "source": []
  },
  {
   "cell_type": "code",
   "execution_count": 53,
   "id": "7fdca420",
   "metadata": {},
   "outputs": [],
   "source": [
    "from sklearn.model_selection import train_test_split\n",
    "x_train, x_test, y_train, y_test = train_test_split(di['Has Diabetes'],di['Smoking Status'])"
   ]
  },
  {
   "cell_type": "code",
   "execution_count": 52,
   "id": "377f5903",
   "metadata": {},
   "outputs": [
    {
     "name": "stdout",
     "output_type": "stream",
     "text": [
      "              precision    recall  f1-score   support\n",
      "\n",
      "     Current       0.30      0.47      0.37        93\n",
      "      Former       0.36      0.54      0.43       101\n",
      "       Never       0.00      0.00      0.00       106\n",
      "\n",
      "    accuracy                           0.33       300\n",
      "   macro avg       0.22      0.34      0.27       300\n",
      "weighted avg       0.21      0.33      0.26       300\n",
      "\n"
     ]
    },
    {
     "name": "stderr",
     "output_type": "stream",
     "text": [
      "C:\\Users\\XPRISTO\\AppData\\Roaming\\Python\\Python311\\site-packages\\sklearn\\metrics\\_classification.py:1531: UndefinedMetricWarning: Precision is ill-defined and being set to 0.0 in labels with no predicted samples. Use `zero_division` parameter to control this behavior.\n",
      "  _warn_prf(average, modifier, f\"{metric.capitalize()} is\", len(result))\n",
      "C:\\Users\\XPRISTO\\AppData\\Roaming\\Python\\Python311\\site-packages\\sklearn\\metrics\\_classification.py:1531: UndefinedMetricWarning: Precision is ill-defined and being set to 0.0 in labels with no predicted samples. Use `zero_division` parameter to control this behavior.\n",
      "  _warn_prf(average, modifier, f\"{metric.capitalize()} is\", len(result))\n",
      "C:\\Users\\XPRISTO\\AppData\\Roaming\\Python\\Python311\\site-packages\\sklearn\\metrics\\_classification.py:1531: UndefinedMetricWarning: Precision is ill-defined and being set to 0.0 in labels with no predicted samples. Use `zero_division` parameter to control this behavior.\n",
      "  _warn_prf(average, modifier, f\"{metric.capitalize()} is\", len(result))\n"
     ]
    }
   ],
   "source": []
  },
  {
   "cell_type": "code",
   "execution_count": null,
   "id": "79f1d23e",
   "metadata": {},
   "outputs": [],
   "source": []
  }
 ],
 "metadata": {
  "kernelspec": {
   "display_name": "Python 3 (ipykernel)",
   "language": "python",
   "name": "python3"
  },
  "language_info": {
   "codemirror_mode": {
    "name": "ipython",
    "version": 3
   },
   "file_extension": ".py",
   "mimetype": "text/x-python",
   "name": "python",
   "nbconvert_exporter": "python",
   "pygments_lexer": "ipython3",
   "version": "3.11.7"
  }
 },
 "nbformat": 4,
 "nbformat_minor": 5
}
