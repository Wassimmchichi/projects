{
 "cells": [
  {
   "cell_type": "code",
   "execution_count": 1,
   "id": "c811cfa7",
   "metadata": {},
   "outputs": [],
   "source": [
    "import pandas as pd \n",
    "import numpy as np \n",
    "import matplotlib.pyplot as plt \n",
    "import seaborn as sns "
   ]
  },
  {
   "cell_type": "code",
   "execution_count": 2,
   "id": "420172c4",
   "metadata": {},
   "outputs": [],
   "source": [
    "xls = 'http://www.biostatisticien.eu/springeR/nutrition_elderly.xls'\n",
    "nutri = pd. read_excel (xls)"
   ]
  },
  {
   "cell_type": "code",
   "execution_count": 3,
   "id": "cd979708",
   "metadata": {},
   "outputs": [
    {
     "data": {
      "text/html": [
       "<div>\n",
       "<style scoped>\n",
       "    .dataframe tbody tr th:only-of-type {\n",
       "        vertical-align: middle;\n",
       "    }\n",
       "\n",
       "    .dataframe tbody tr th {\n",
       "        vertical-align: top;\n",
       "    }\n",
       "\n",
       "    .dataframe thead th {\n",
       "        text-align: right;\n",
       "    }\n",
       "</style>\n",
       "<table border=\"1\" class=\"dataframe\">\n",
       "  <thead>\n",
       "    <tr style=\"text-align: right;\">\n",
       "      <th></th>\n",
       "      <th>gender</th>\n",
       "      <th>situation</th>\n",
       "      <th>tea</th>\n",
       "      <th>coffee</th>\n",
       "      <th>...</th>\n",
       "      <th>raw_fruit</th>\n",
       "      <th>cooked_fruit_veg</th>\n",
       "      <th>chocol</th>\n",
       "      <th>fat</th>\n",
       "    </tr>\n",
       "  </thead>\n",
       "  <tbody>\n",
       "    <tr>\n",
       "      <th>0</th>\n",
       "      <td>2</td>\n",
       "      <td>1</td>\n",
       "      <td>0</td>\n",
       "      <td>0</td>\n",
       "      <td>...</td>\n",
       "      <td>1</td>\n",
       "      <td>4</td>\n",
       "      <td>5</td>\n",
       "      <td>6</td>\n",
       "    </tr>\n",
       "    <tr>\n",
       "      <th>1</th>\n",
       "      <td>2</td>\n",
       "      <td>1</td>\n",
       "      <td>1</td>\n",
       "      <td>1</td>\n",
       "      <td>...</td>\n",
       "      <td>5</td>\n",
       "      <td>5</td>\n",
       "      <td>1</td>\n",
       "      <td>4</td>\n",
       "    </tr>\n",
       "    <tr>\n",
       "      <th>2</th>\n",
       "      <td>2</td>\n",
       "      <td>1</td>\n",
       "      <td>0</td>\n",
       "      <td>4</td>\n",
       "      <td>...</td>\n",
       "      <td>5</td>\n",
       "      <td>2</td>\n",
       "      <td>5</td>\n",
       "      <td>4</td>\n",
       "    </tr>\n",
       "  </tbody>\n",
       "</table>\n",
       "<p>3 rows × 13 columns</p>\n",
       "</div>"
      ],
      "text/plain": [
       "   gender  situation  tea  coffee  ...  raw_fruit  cooked_fruit_veg  chocol  \\\n",
       "0       2          1    0       0  ...          1                 4       5   \n",
       "1       2          1    1       1  ...          5                 5       1   \n",
       "2       2          1    0       4  ...          5                 2       5   \n",
       "\n",
       "   fat  \n",
       "0    6  \n",
       "1    4  \n",
       "2    4  \n",
       "\n",
       "[3 rows x 13 columns]"
      ]
     },
     "execution_count": 3,
     "metadata": {},
     "output_type": "execute_result"
    }
   ],
   "source": [
    "pd. set_option ('display.max_columns', 8) #  Limite le nombre maximum de colonnes affichées à 8\n",
    "nutri.head (3)"
   ]
  },
  {
   "cell_type": "code",
   "execution_count": 4,
   "id": "4a6f98af",
   "metadata": {},
   "outputs": [
    {
     "data": {
      "text/html": [
       "<div>\n",
       "<style scoped>\n",
       "    .dataframe tbody tr th:only-of-type {\n",
       "        vertical-align: middle;\n",
       "    }\n",
       "\n",
       "    .dataframe tbody tr th {\n",
       "        vertical-align: top;\n",
       "    }\n",
       "\n",
       "    .dataframe thead th {\n",
       "        text-align: right;\n",
       "    }\n",
       "</style>\n",
       "<table border=\"1\" class=\"dataframe\">\n",
       "  <thead>\n",
       "    <tr style=\"text-align: right;\">\n",
       "      <th></th>\n",
       "      <th>gender</th>\n",
       "      <th>situation</th>\n",
       "      <th>tea</th>\n",
       "      <th>coffee</th>\n",
       "      <th>height</th>\n",
       "      <th>...</th>\n",
       "      <th>fish</th>\n",
       "      <th>raw_fruit</th>\n",
       "      <th>cooked_fruit_veg</th>\n",
       "      <th>chocol</th>\n",
       "      <th>fat</th>\n",
       "    </tr>\n",
       "  </thead>\n",
       "  <tbody>\n",
       "    <tr>\n",
       "      <th>0</th>\n",
       "      <td>2</td>\n",
       "      <td>1</td>\n",
       "      <td>0</td>\n",
       "      <td>0</td>\n",
       "      <td>151</td>\n",
       "      <td>...</td>\n",
       "      <td>3</td>\n",
       "      <td>1</td>\n",
       "      <td>4</td>\n",
       "      <td>5</td>\n",
       "      <td>6</td>\n",
       "    </tr>\n",
       "    <tr>\n",
       "      <th>1</th>\n",
       "      <td>2</td>\n",
       "      <td>1</td>\n",
       "      <td>1</td>\n",
       "      <td>1</td>\n",
       "      <td>162</td>\n",
       "      <td>...</td>\n",
       "      <td>2</td>\n",
       "      <td>5</td>\n",
       "      <td>5</td>\n",
       "      <td>1</td>\n",
       "      <td>4</td>\n",
       "    </tr>\n",
       "    <tr>\n",
       "      <th>2</th>\n",
       "      <td>2</td>\n",
       "      <td>1</td>\n",
       "      <td>0</td>\n",
       "      <td>4</td>\n",
       "      <td>162</td>\n",
       "      <td>...</td>\n",
       "      <td>1</td>\n",
       "      <td>5</td>\n",
       "      <td>2</td>\n",
       "      <td>5</td>\n",
       "      <td>4</td>\n",
       "    </tr>\n",
       "  </tbody>\n",
       "</table>\n",
       "<p>3 rows × 13 columns</p>\n",
       "</div>"
      ],
      "text/plain": [
       "   gender  situation  tea  coffee  height  ...  fish  raw_fruit  \\\n",
       "0       2          1    0       0     151  ...     3          1   \n",
       "1       2          1    1       1     162  ...     2          5   \n",
       "2       2          1    0       4     162  ...     1          5   \n",
       "\n",
       "   cooked_fruit_veg  chocol  fat  \n",
       "0                 4       5    6  \n",
       "1                 5       1    4  \n",
       "2                 2       5    4  \n",
       "\n",
       "[3 rows x 13 columns]"
      ]
     },
     "execution_count": 4,
     "metadata": {},
     "output_type": "execute_result"
    }
   ],
   "source": [
    "pd. set_option ('display.max_columns', 10) #  Limite le nombre maximum de colonnes affichées à 10\n",
    "nutri.head (3)"
   ]
  },
  {
   "cell_type": "code",
   "execution_count": 5,
   "id": "0044b91e",
   "metadata": {},
   "outputs": [],
   "source": [
    "# pd.set_option('display.max_colwidth', 200): Définit la largeur maximale d'une colonne à 200 caractères.\n",
    "#pd.set_option('display.precision', 3): Définit la précision des nombres flottants à 3 chiffres après la virgule.\n",
    "\n",
    "#il ya beaucoup d'autre utilisation de la fonction set_option et qui sert à  configurer les options globales de pandas. \n",
    "#Ces options peuvent affecter le comportement de l'affichage, le formatage, la gestion des erreurs, et d'autres aspects du fonctionnement de pandas"
   ]
  },
  {
   "cell_type": "code",
   "execution_count": 6,
   "id": "97d23cc6",
   "metadata": {},
   "outputs": [
    {
     "name": "stdout",
     "output_type": "stream",
     "text": [
      "<class 'pandas.core.frame.DataFrame'>\n",
      "RangeIndex: 226 entries, 0 to 225\n",
      "Data columns (total 13 columns):\n",
      " #   Column            Non-Null Count  Dtype\n",
      "---  ------            --------------  -----\n",
      " 0   gender            226 non-null    int64\n",
      " 1   situation         226 non-null    int64\n",
      " 2   tea               226 non-null    int64\n",
      " 3   coffee            226 non-null    int64\n",
      " 4   height            226 non-null    int64\n",
      " 5   weight            226 non-null    int64\n",
      " 6   age               226 non-null    int64\n",
      " 7   meat              226 non-null    int64\n",
      " 8   fish              226 non-null    int64\n",
      " 9   raw_fruit         226 non-null    int64\n",
      " 10  cooked_fruit_veg  226 non-null    int64\n",
      " 11  chocol            226 non-null    int64\n",
      " 12  fat               226 non-null    int64\n",
      "dtypes: int64(13)\n",
      "memory usage: 23.1 KB\n"
     ]
    }
   ],
   "source": [
    "nutri.info () # compris_execution \n"
   ]
  },
  {
   "cell_type": "code",
   "execution_count": 7,
   "id": "7f0de4bd",
   "metadata": {},
   "outputs": [
    {
     "name": "stdout",
     "output_type": "stream",
     "text": [
      "<class 'pandas.core.frame.DataFrame'>\n",
      "RangeIndex: 226 entries, 0 to 225\n",
      "Data columns (total 13 columns):\n",
      " #   Column            Non-Null Count  Dtype   \n",
      "---  ------            --------------  -----   \n",
      " 0   gender            226 non-null    category\n",
      " 1   situation         226 non-null    int64   \n",
      " 2   tea               226 non-null    int64   \n",
      " 3   coffee            226 non-null    int64   \n",
      " 4   height            226 non-null    int64   \n",
      " 5   weight            226 non-null    int64   \n",
      " 6   age               226 non-null    int64   \n",
      " 7   meat              226 non-null    int64   \n",
      " 8   fish              226 non-null    int64   \n",
      " 9   raw_fruit         226 non-null    int64   \n",
      " 10  cooked_fruit_veg  226 non-null    int64   \n",
      " 11  chocol            226 non-null    int64   \n",
      " 12  fat               226 non-null    int64   \n",
      "dtypes: category(1), int64(12)\n",
      "memory usage: 21.7 KB\n"
     ]
    }
   ],
   "source": [
    "# on remarque que python a lit toutes c'est variables comme int mais nous impressionne pour remarquer que les variable nominale \n",
    "#sont prise par le createur de data comme des nombre comme exemple dans gender ils ont prendre 1 comme male et 2 comme female \n",
    "\n",
    "DICT_gender = {1:'Male', 2:'Female'} # dictionary specifies replacement\n",
    "nutri['gender'] = nutri['gender']. replace(DICT_gender).astype('category')#là on a remplacer la valeur de 1 par male et la valeur 2 par female\n",
    "# et on a donnez comme type category. \n",
    "nutri.info() #compris_execution "
   ]
  },
  {
   "cell_type": "code",
   "execution_count": 8,
   "id": "0ce6c050",
   "metadata": {},
   "outputs": [
    {
     "data": {
      "text/plain": [
       "0      151.0\n",
       "1      162.0\n",
       "2      162.0\n",
       "3      154.0\n",
       "4      154.0\n",
       "       ...  \n",
       "221    160.0\n",
       "222    163.0\n",
       "223    170.0\n",
       "224    154.0\n",
       "225    159.0\n",
       "Name: height, Length: 226, dtype: float64"
      ]
     },
     "execution_count": 8,
     "metadata": {},
     "output_type": "execute_result"
    }
   ],
   "source": [
    "nutri['height']=nutri['height'].astype('float')  #on peut faire ça pour tout les variable à fin de corriger tout les erreur faites que ça soit\n",
    "#par le creater de data_set ou par python \n",
    "nutri['height']"
   ]
  },
  {
   "cell_type": "code",
   "execution_count": 9,
   "id": "d8991ee2",
   "metadata": {},
   "outputs": [
    {
     "name": "stdout",
     "output_type": "stream",
     "text": [
      "<class 'pandas.core.frame.DataFrame'>\n",
      "RangeIndex: 226 entries, 0 to 225\n",
      "Data columns (total 13 columns):\n",
      " #   Column            Non-Null Count  Dtype   \n",
      "---  ------            --------------  -----   \n",
      " 0   gender            226 non-null    category\n",
      " 1   situation         226 non-null    int64   \n",
      " 2   tea               226 non-null    int64   \n",
      " 3   coffee            226 non-null    int64   \n",
      " 4   height            226 non-null    float64 \n",
      " 5   weight            226 non-null    int64   \n",
      " 6   age               226 non-null    int64   \n",
      " 7   meat              226 non-null    int64   \n",
      " 8   fish              226 non-null    int64   \n",
      " 9   raw_fruit         226 non-null    int64   \n",
      " 10  cooked_fruit_veg  226 non-null    int64   \n",
      " 11  chocol            226 non-null    int64   \n",
      " 12  fat               226 non-null    int64   \n",
      "dtypes: category(1), float64(1), int64(11)\n",
      "memory usage: 21.7 KB\n"
     ]
    }
   ],
   "source": [
    "nutri.info()"
   ]
  },
  {
   "cell_type": "code",
   "execution_count": 10,
   "id": "2d616592",
   "metadata": {},
   "outputs": [],
   "source": [
    "dict_situation = {1:'Single', 2:'Living with spouse', 3: 'Living with family', 4:'Living with someone else', 5: 'lhlkqhdq'}\n",
    "nutri['situation']= nutri['situation'].replace(dict_situation).astype('category')"
   ]
  },
  {
   "cell_type": "code",
   "execution_count": 11,
   "id": "0e72787b",
   "metadata": {},
   "outputs": [],
   "source": [
    "nutri['weight'] = nutri['weight'].astype('float')"
   ]
  },
  {
   "cell_type": "code",
   "execution_count": 12,
   "id": "ff20e2a7",
   "metadata": {},
   "outputs": [
    {
     "name": "stdout",
     "output_type": "stream",
     "text": [
      "     gender           situation  tea  coffee  height  ...  \\\n",
      "0    Female              Single    0       0   151.0  ...   \n",
      "1    Female              Single    1       1   162.0  ...   \n",
      "2    Female              Single    0       4   162.0  ...   \n",
      "3    Female              Single    0       0   154.0  ...   \n",
      "4    Female              Single    2       1   154.0  ...   \n",
      "..      ...                 ...  ...     ...     ...  ...   \n",
      "221  Female              Single    0       1   160.0  ...   \n",
      "222  Female  Living with spouse    0       3   163.0  ...   \n",
      "223    Male  Living with spouse    0       2   170.0  ...   \n",
      "224  Female              Single    0       2   154.0  ...   \n",
      "225  Female  Living with spouse    2       0   159.0  ...   \n",
      "\n",
      "                      fish              raw_fruit  cooked_fruit_veg  \\\n",
      "0         2–3 times a week  Less than once a week  4–6 times a week   \n",
      "1              Once a week              Every day         Every day   \n",
      "2    Less than once a week              Every day       Once a week   \n",
      "3         4–6 times a week       4–6 times a week             Never   \n",
      "4         2–3 times a week              Every day         Every day   \n",
      "..                     ...                    ...               ...   \n",
      "221       2–3 times a week              Every day         Every day   \n",
      "222       2–3 times a week       4–6 times a week  4–6 times a week   \n",
      "223       2–3 times a week       4–6 times a week  4–6 times a week   \n",
      "224       2–3 times a week       2–3 times a week         Every day   \n",
      "225       2–3 times a week              Every day         Every day   \n",
      "\n",
      "                    chocol fat  \n",
      "0                Every day   6  \n",
      "1    Less than once a week   4  \n",
      "2                Every day   4  \n",
      "3         2–3 times a week   2  \n",
      "4         2–3 times a week   2  \n",
      "..                     ...  ..  \n",
      "221  Less than once a week   6  \n",
      "222  Less than once a week   3  \n",
      "223  Less than once a week   3  \n",
      "224       2–3 times a week   5  \n",
      "225  Less than once a week   4  \n",
      "\n",
      "[226 rows x 13 columns]\n"
     ]
    }
   ],
   "source": [
    "dict_deg_repitition={0:'Never', 1: 'Less than once a week', 2: 'Once a week', 3: '2–3 times a week', 4: '4–6 times a week', 5: 'Every day'}\n",
    "nutri['meat'] = nutri[\"meat\"].replace(dict_deg_repitition).astype('category')\n",
    "nutri['fish'] = nutri[\"fish\"].replace(dict_deg_repitition).astype('category')\n",
    "nutri['raw_fruit'] = nutri[\"raw_fruit\"].replace(dict_deg_repitition).astype('category')\n",
    "nutri['cooked_fruit_veg'] = nutri[\"cooked_fruit_veg\"].replace(dict_deg_repitition).astype('category')\n",
    "nutri['chocol'] = nutri[\"chocol\"].replace(dict_deg_repitition).astype('category')\n",
    "print(nutri)"
   ]
  },
  {
   "cell_type": "code",
   "execution_count": 13,
   "id": "e3477ba1",
   "metadata": {},
   "outputs": [],
   "source": [
    "dict_fat={1: 'Butter', 2: 'Margarine', 3: 'Peanut oil', 4: 'Sunflower oilfor cooking', 5: 'Olive oil', 6: 'Mix of vegetable oils (e.g., Isio4)', 7: 'Colza oil', 8: 'Duck or goose fat'}\n",
    "nutri['fat'] = nutri['fat'].replace(dict_fat).astype('category')"
   ]
  },
  {
   "cell_type": "code",
   "execution_count": 14,
   "id": "4be1d121",
   "metadata": {},
   "outputs": [
    {
     "data": {
      "text/plain": [
       "count                          226\n",
       "unique                           8\n",
       "top       Sunflower oilfor cooking\n",
       "freq                            68\n",
       "Name: fat, dtype: object"
      ]
     },
     "execution_count": 14,
     "metadata": {},
     "output_type": "execute_result"
    }
   ],
   "source": [
    "nutri.to_csv('nutri.csv', index = False)\n",
    "nutri=pd.read_csv('nutri.csv')\n",
    "nutri['fat']. describe ()    \n",
    "# describe() function for the qualitative variable show the count and that there is 8 type and that sunflower... has the most\n",
    "#heighest number of individiuls  by 68 out of 226."
   ]
  },
  {
   "cell_type": "code",
   "execution_count": 15,
   "id": "f20f1868",
   "metadata": {},
   "outputs": [],
   "source": [
    "#We see that there are 8 different types of fat used and that sunflower has the highest\n",
    "#count, with 68 out of 226 individuals using this type of cooking fat"
   ]
  },
  {
   "cell_type": "code",
   "execution_count": 16,
   "id": "c5b08981",
   "metadata": {},
   "outputs": [
    {
     "data": {
      "text/plain": [
       "fat\n",
       "Sunflower oilfor cooking               68\n",
       "Peanut oil                             48\n",
       "Olive oil                              40\n",
       "Margarine                              27\n",
       "Mix of vegetable oils (e.g., Isio4)    23\n",
       "Butter                                 15\n",
       "Duck or goose fat                       4\n",
       "Colza oil                               1\n",
       "Name: count, dtype: int64"
      ]
     },
     "execution_count": 16,
     "metadata": {},
     "output_type": "execute_result"
    }
   ],
   "source": [
    "nutri['fat']. value_counts () #compris_execution"
   ]
  },
  {
   "cell_type": "code",
   "execution_count": 17,
   "id": "925b4c78",
   "metadata": {},
   "outputs": [
    {
     "data": {
      "text/plain": [
       "0      Mix of vegetable oils (e.g., Isio4)\n",
       "1                 Sunflower oilfor cooking\n",
       "2                 Sunflower oilfor cooking\n",
       "3                                Margarine\n",
       "4                                Margarine\n",
       "                      ...                 \n",
       "221    Mix of vegetable oils (e.g., Isio4)\n",
       "222                             Peanut oil\n",
       "223                             Peanut oil\n",
       "224                              Olive oil\n",
       "225               Sunflower oilfor cooking\n",
       "Name: fat, Length: 226, dtype: object"
      ]
     },
     "execution_count": 17,
     "metadata": {},
     "output_type": "execute_result"
    }
   ],
   "source": [
    "nutri.fat"
   ]
  },
  {
   "cell_type": "code",
   "execution_count": 18,
   "id": "4e73e306",
   "metadata": {},
   "outputs": [
    {
     "data": {
      "text/plain": [
       "0      Mix of vegetable oils (e.g., Isio4)\n",
       "1                 Sunflower oilfor cooking\n",
       "2                 Sunflower oilfor cooking\n",
       "3                                Margarine\n",
       "4                                Margarine\n",
       "                      ...                 \n",
       "221    Mix of vegetable oils (e.g., Isio4)\n",
       "222                             Peanut oil\n",
       "223                             Peanut oil\n",
       "224                              Olive oil\n",
       "225               Sunflower oilfor cooking\n",
       "Name: fat, Length: 226, dtype: object"
      ]
     },
     "execution_count": 18,
     "metadata": {},
     "output_type": "execute_result"
    }
   ],
   "source": [
    "nutri['fat']"
   ]
  },
  {
   "cell_type": "code",
   "execution_count": 19,
   "id": "e927501b",
   "metadata": {},
   "outputs": [],
   "source": [
    "#les deux dernier commandes sont exactement la même chose "
   ]
  },
  {
   "cell_type": "code",
   "execution_count": 20,
   "id": "2f01dcc9",
   "metadata": {},
   "outputs": [
    {
     "data": {
      "text/html": [
       "<div>\n",
       "<style scoped>\n",
       "    .dataframe tbody tr th:only-of-type {\n",
       "        vertical-align: middle;\n",
       "    }\n",
       "\n",
       "    .dataframe tbody tr th {\n",
       "        vertical-align: top;\n",
       "    }\n",
       "\n",
       "    .dataframe thead th {\n",
       "        text-align: right;\n",
       "    }\n",
       "</style>\n",
       "<table border=\"1\" class=\"dataframe\">\n",
       "  <thead>\n",
       "    <tr style=\"text-align: right;\">\n",
       "      <th>situation</th>\n",
       "      <th>Living with family</th>\n",
       "      <th>Living with spouse</th>\n",
       "      <th>Single</th>\n",
       "    </tr>\n",
       "    <tr>\n",
       "      <th>gender</th>\n",
       "      <th></th>\n",
       "      <th></th>\n",
       "      <th></th>\n",
       "    </tr>\n",
       "  </thead>\n",
       "  <tbody>\n",
       "    <tr>\n",
       "      <th>Female</th>\n",
       "      <td>7</td>\n",
       "      <td>56</td>\n",
       "      <td>78</td>\n",
       "    </tr>\n",
       "    <tr>\n",
       "      <th>Male</th>\n",
       "      <td>2</td>\n",
       "      <td>63</td>\n",
       "      <td>20</td>\n",
       "    </tr>\n",
       "  </tbody>\n",
       "</table>\n",
       "</div>"
      ],
      "text/plain": [
       "situation  Living with family  Living with spouse  Single\n",
       "gender                                                   \n",
       "Female                      7                  56      78\n",
       "Male                        2                  63      20"
      ]
     },
     "execution_count": 20,
     "metadata": {},
     "output_type": "execute_result"
    }
   ],
   "source": [
    "pd.crosstab (nutri.gender , nutri. situation )  #compris_execution note:l'intersection entre deux variable "
   ]
  },
  {
   "cell_type": "code",
   "execution_count": 21,
   "id": "0483204f",
   "metadata": {},
   "outputs": [
    {
     "data": {
      "text/html": [
       "<div>\n",
       "<style scoped>\n",
       "    .dataframe tbody tr th:only-of-type {\n",
       "        vertical-align: middle;\n",
       "    }\n",
       "\n",
       "    .dataframe tbody tr th {\n",
       "        vertical-align: top;\n",
       "    }\n",
       "\n",
       "    .dataframe thead th {\n",
       "        text-align: right;\n",
       "    }\n",
       "</style>\n",
       "<table border=\"1\" class=\"dataframe\">\n",
       "  <thead>\n",
       "    <tr style=\"text-align: right;\">\n",
       "      <th>situation</th>\n",
       "      <th>Living with family</th>\n",
       "      <th>Living with spouse</th>\n",
       "      <th>Single</th>\n",
       "      <th>All</th>\n",
       "    </tr>\n",
       "    <tr>\n",
       "      <th>gender</th>\n",
       "      <th></th>\n",
       "      <th></th>\n",
       "      <th></th>\n",
       "      <th></th>\n",
       "    </tr>\n",
       "  </thead>\n",
       "  <tbody>\n",
       "    <tr>\n",
       "      <th>Female</th>\n",
       "      <td>7</td>\n",
       "      <td>56</td>\n",
       "      <td>78</td>\n",
       "      <td>141</td>\n",
       "    </tr>\n",
       "    <tr>\n",
       "      <th>Male</th>\n",
       "      <td>2</td>\n",
       "      <td>63</td>\n",
       "      <td>20</td>\n",
       "      <td>85</td>\n",
       "    </tr>\n",
       "    <tr>\n",
       "      <th>All</th>\n",
       "      <td>9</td>\n",
       "      <td>119</td>\n",
       "      <td>98</td>\n",
       "      <td>226</td>\n",
       "    </tr>\n",
       "  </tbody>\n",
       "</table>\n",
       "</div>"
      ],
      "text/plain": [
       "situation  Living with family  Living with spouse  Single  All\n",
       "gender                                                        \n",
       "Female                      7                  56      78  141\n",
       "Male                        2                  63      20   85\n",
       "All                         9                 119      98  226"
      ]
     },
     "execution_count": 21,
     "metadata": {},
     "output_type": "execute_result"
    }
   ],
   "source": [
    "pd.crosstab (nutri.gender , nutri.situation , margins=True) #la difference et bien compris_execution\n"
   ]
  },
  {
   "cell_type": "code",
   "execution_count": 22,
   "id": "fccdb68a",
   "metadata": {},
   "outputs": [
    {
     "data": {
      "text/plain": [
       "163.96017699115043"
      ]
     },
     "execution_count": 22,
     "metadata": {},
     "output_type": "execute_result"
    }
   ],
   "source": [
    "nutri.height.mean()   #the mean and we denote x-bar "
   ]
  },
  {
   "cell_type": "code",
   "execution_count": 23,
   "id": "2ea32c60",
   "metadata": {},
   "outputs": [
    {
     "data": {
      "text/plain": [
       "0.25    157.0\n",
       "0.50    163.0\n",
       "0.75    170.0\n",
       "Name: height, dtype: float64"
      ]
     },
     "execution_count": 23,
     "metadata": {},
     "output_type": "execute_result"
    }
   ],
   "source": [
    "nutri['height']. quantile (q=[0.25 ,0.5 ,0.75]) #pour 0.25 le quantile est la valeur de data_frame dont 25% des valeurs sont \n",
    "#inferieur à cette valeur .\n",
    "# pour la deuxieme on dit médian et pour 0.75 c'est le même principe que ce de 0.25"
   ]
  },
  {
   "cell_type": "markdown",
   "id": "88f6148d",
   "metadata": {},
   "source": [
    "## maintenant on va chercher la dispersion ou le spread "
   ]
  },
  {
   "cell_type": "code",
   "execution_count": 24,
   "id": "5eb2d1cd",
   "metadata": {},
   "outputs": [
    {
     "data": {
      "text/plain": [
       "48.0"
      ]
     },
     "execution_count": 24,
     "metadata": {},
     "output_type": "execute_result"
    }
   ],
   "source": [
    "nutri['height'].max()-nutri['height'].min()  # sample range , ça va nous donnez une simple idée sur la dispersion "
   ]
  },
  {
   "cell_type": "code",
   "execution_count": 25,
   "id": "ea54ad48",
   "metadata": {},
   "outputs": [],
   "source": [
    "#la variance est une notion de statistique qui démontre la dipertion elle plus précis en cm^2(m^2,...) \n",
    "\n",
    "\n",
    "#la variance pour une liste de population est différente que celle d'une liste d'echentillons(qui est une sous_liste de population)\n",
    "\n",
    "\n",
    "# variance de population on divise par le nombre d'individus par ce que la liste est complete qui contiens tout les cas dans \n",
    "#domaine d'étude mais pour une liste d'échantillon on divise par n-1 tels que n le nombre d'individus on fait ça pour augmenter \n",
    "#la variance car dans ce type de liste il y a toujours une marge d'erreur donc on prend le pire des cas "
   ]
  },
  {
   "cell_type": "code",
   "execution_count": 26,
   "id": "aa4aa2a6",
   "metadata": {},
   "outputs": [
    {
     "data": {
      "text/plain": [
       "81.06"
      ]
     },
     "execution_count": 26,
     "metadata": {},
     "output_type": "execute_result"
    }
   ],
   "source": [
    "round(nutri['height']. var (), 2) # round pour faire un approximation à deux chiffres après la virgule "
   ]
  },
  {
   "cell_type": "code",
   "execution_count": 27,
   "id": "9c3a850f",
   "metadata": {},
   "outputs": [
    {
     "data": {
      "text/plain": [
       "9.0"
      ]
     },
     "execution_count": 27,
     "metadata": {},
     "output_type": "execute_result"
    }
   ],
   "source": [
    "round(nutri[\"height\"].std(), 2) # ce n'est que la racine de la varience c'est standard deviation"
   ]
  },
  {
   "cell_type": "code",
   "execution_count": 28,
   "id": "f2d344a8",
   "metadata": {},
   "outputs": [
    {
     "data": {
      "text/plain": [
       "count    226.000000\n",
       "mean     163.960177\n",
       "std        9.003368\n",
       "min      140.000000\n",
       "25%      157.000000\n",
       "50%      163.000000\n",
       "75%      170.000000\n",
       "max      188.000000\n",
       "Name: height, dtype: float64"
      ]
     },
     "execution_count": 28,
     "metadata": {},
     "output_type": "execute_result"
    }
   ],
   "source": [
    "nutri['height']. describe ()    # there is a difference between the describe() applied in the quelitative(au doussus) and quantitative variables\n",
    "#compris_execution "
   ]
  },
  {
   "cell_type": "markdown",
   "id": "0d420446",
   "metadata": {},
   "source": [
    "# la visualisation de data :"
   ]
  },
  {
   "cell_type": "code",
   "execution_count": 29,
   "id": "fa88dc67",
   "metadata": {
    "scrolled": false
   },
   "outputs": [
    {
     "data": {
      "image/png": "[encoded data removed]",
      "text/plain": [
       "<Figure size 640x480 with 1 Axes>"
      ]
     },
     "metadata": {},
     "output_type": "display_data"
    }
   ],
   "source": [
    "x = [0, 0.8, 1.6] # the bar positions on x-axis\n",
    "situation_counts =nutri['situation']. value_counts ()\n",
    "plt.bar(x, situation_counts , 0.35, edgecolor = 'black') # 0.35 for the width of the bars \n",
    "plt.xticks(x, situation_counts .index)\n",
    "plt.show ()\n"
   ]
  },
  {
   "cell_type": "code",
   "execution_count": 30,
   "id": "8c28d0bd",
   "metadata": {
    "scrolled": true
   },
   "outputs": [
    {
     "data": {
      "text/plain": [
       "situation\n",
       "Living with spouse    119\n",
       "Single                 98\n",
       "Living with family      9\n",
       "Name: count, dtype: int64"
      ]
     },
     "execution_count": 30,
     "metadata": {},
     "output_type": "execute_result"
    }
   ],
   "source": [
    "nutri.situation.value_counts()"
   ]
  },
  {
   "cell_type": "code",
   "execution_count": 31,
   "id": "a939752b",
   "metadata": {},
   "outputs": [
    {
     "data": {
      "image/png": "[encoded data removed]",
      "text/plain": [
       "<Figure size 640x480 with 1 Axes>"
      ]
     },
     "metadata": {},
     "output_type": "display_data"
    }
   ],
   "source": [
    "plt.boxplot(nutri['age'],widths=0.2,vert=False)\n",
    "plt.xlabel('age')\n",
    "plt.show ()"
   ]
  },
  {
   "cell_type": "code",
   "execution_count": 32,
   "id": "a0c53d66",
   "metadata": {},
   "outputs": [
    {
     "data": {
      "image/png": "[encoded data removed]",
      "text/plain": [
       "<Figure size 640x480 with 1 Axes>"
      ]
     },
     "metadata": {},
     "output_type": "display_data"
    }
   ],
   "source": [
    "plt.boxplot(nutri['height'],widths=0.2,vert=False)\n",
    "plt.xlabel('height')\n",
    "plt.show ()   # The size of the box is called the interquartile range: IQR = Q3 − Q1\n",
    "#140 est la valeur max(min, Q1-1.5*(IQR))\n",
    "#187 est la valeur min(mas, Q3+1.5*IQR)"
   ]
  },
  {
   "cell_type": "code",
   "execution_count": 33,
   "id": "0f2f7987",
   "metadata": {},
   "outputs": [],
   "source": [
    "#Les valeurs à l'extérieur des moustaches sont représentées par des points.\n",
    "#On ne peut pas dire que si une observation est à l'extérieur des moustaches alors elles est une valeur aberrante. \n",
    "#Par contre, cela indique qu'il faut étudier plus en détail cette observation."
   ]
  },
  {
   "cell_type": "code",
   "execution_count": 34,
   "id": "f8f434b0",
   "metadata": {},
   "outputs": [
    {
     "data": {
      "text/plain": [
       "0      72\n",
       "1      68\n",
       "2      78\n",
       "3      91\n",
       "4      65\n",
       "       ..\n",
       "221    74\n",
       "222    68\n",
       "223    71\n",
       "224    77\n",
       "225    69\n",
       "Name: age, Length: 226, dtype: int64"
      ]
     },
     "execution_count": 34,
     "metadata": {},
     "output_type": "execute_result"
    }
   ],
   "source": [
    "nutri.age"
   ]
  },
  {
   "cell_type": "code",
   "execution_count": 35,
   "id": "ad22c3f6",
   "metadata": {},
   "outputs": [
    {
     "name": "stdout",
     "output_type": "stream",
     "text": [
      "[0.00442478 0.00442478 0.00442478 0.00442478 0.00442478 0.00442478\n",
      " 0.00442478 0.00442478 0.00442478 0.00442478 0.00442478 0.00442478\n",
      " 0.00442478 0.00442478 0.00442478 0.00442478 0.00442478 0.00442478\n",
      " 0.00442478 0.00442478 0.00442478 0.00442478 0.00442478 0.00442478\n",
      " 0.00442478 0.00442478 0.00442478 0.00442478 0.00442478 0.00442478\n",
      " 0.00442478 0.00442478 0.00442478 0.00442478 0.00442478 0.00442478\n",
      " 0.00442478 0.00442478 0.00442478 0.00442478 0.00442478 0.00442478\n",
      " 0.00442478 0.00442478 0.00442478 0.00442478 0.00442478 0.00442478\n",
      " 0.00442478 0.00442478 0.00442478 0.00442478 0.00442478 0.00442478\n",
      " 0.00442478 0.00442478 0.00442478 0.00442478 0.00442478 0.00442478\n",
      " 0.00442478 0.00442478 0.00442478 0.00442478 0.00442478 0.00442478\n",
      " 0.00442478 0.00442478 0.00442478 0.00442478 0.00442478 0.00442478\n",
      " 0.00442478 0.00442478 0.00442478 0.00442478 0.00442478 0.00442478\n",
      " 0.00442478 0.00442478 0.00442478 0.00442478 0.00442478 0.00442478\n",
      " 0.00442478 0.00442478 0.00442478 0.00442478 0.00442478 0.00442478\n",
      " 0.00442478 0.00442478 0.00442478 0.00442478 0.00442478 0.00442478\n",
      " 0.00442478 0.00442478 0.00442478 0.00442478 0.00442478 0.00442478\n",
      " 0.00442478 0.00442478 0.00442478 0.00442478 0.00442478 0.00442478\n",
      " 0.00442478 0.00442478 0.00442478 0.00442478 0.00442478 0.00442478\n",
      " 0.00442478 0.00442478 0.00442478 0.00442478 0.00442478 0.00442478\n",
      " 0.00442478 0.00442478 0.00442478 0.00442478 0.00442478 0.00442478\n",
      " 0.00442478 0.00442478 0.00442478 0.00442478 0.00442478 0.00442478\n",
      " 0.00442478 0.00442478 0.00442478 0.00442478 0.00442478 0.00442478\n",
      " 0.00442478 0.00442478 0.00442478 0.00442478 0.00442478 0.00442478\n",
      " 0.00442478 0.00442478 0.00442478 0.00442478 0.00442478 0.00442478\n",
      " 0.00442478 0.00442478 0.00442478 0.00442478 0.00442478 0.00442478\n",
      " 0.00442478 0.00442478 0.00442478 0.00442478 0.00442478 0.00442478\n",
      " 0.00442478 0.00442478 0.00442478 0.00442478 0.00442478 0.00442478\n",
      " 0.00442478 0.00442478 0.00442478 0.00442478 0.00442478 0.00442478\n",
      " 0.00442478 0.00442478 0.00442478 0.00442478 0.00442478 0.00442478\n",
      " 0.00442478 0.00442478 0.00442478 0.00442478 0.00442478 0.00442478\n",
      " 0.00442478 0.00442478 0.00442478 0.00442478 0.00442478 0.00442478\n",
      " 0.00442478 0.00442478 0.00442478 0.00442478 0.00442478 0.00442478\n",
      " 0.00442478 0.00442478 0.00442478 0.00442478 0.00442478 0.00442478\n",
      " 0.00442478 0.00442478 0.00442478 0.00442478 0.00442478 0.00442478\n",
      " 0.00442478 0.00442478 0.00442478 0.00442478 0.00442478 0.00442478\n",
      " 0.00442478 0.00442478 0.00442478 0.00442478 0.00442478 0.00442478\n",
      " 0.00442478 0.00442478 0.00442478 0.00442478]\n"
     ]
    }
   ],
   "source": [
    "weights = np.ones_like (nutri.age)/nutri.age.count()\n",
    "print(weights)"
   ]
  },
  {
   "cell_type": "code",
   "execution_count": 36,
   "id": "c861ceec",
   "metadata": {},
   "outputs": [
    {
     "data": {
      "image/png": "[encoded data removed]",
      "text/plain": [
       "<Figure size 640x480 with 1 Axes>"
      ]
     },
     "metadata": {},
     "output_type": "display_data"
    }
   ],
   "source": [
    "weights = np. ones_like (nutri.age)/nutri.age.count()\n",
    "plt.hist(nutri.age ,bins =9, weights=weights, facecolor ='cyan', edgecolor ='black',linewidth=1) \n",
    "plt.xlabel('age')\n",
    "plt.ylabel('Proportion of Total')\n",
    "plt.title('age en fonction de counts/total',color='green')\n",
    "plt.show ()"
   ]
  },
  {
   "cell_type": "code",
   "execution_count": 37,
   "id": "10bde7c1",
   "metadata": {},
   "outputs": [],
   "source": [
    "# age is continue variable this is why bins is an important parameter to define, the default value of bins \n",
    "#is 10 bins. The wheits(comme un echelle dans notre cas on a considerer toute valeur divisé par totale=226)\n",
    "#c'est pourquoi on a definie un array \n",
    "#facecolor and line width .... is as optionnal parameter to define \n",
    "# the histogram is more compatible with the descreate data set "
   ]
  },
  {
   "cell_type": "code",
   "execution_count": 38,
   "id": "cd6231c5",
   "metadata": {},
   "outputs": [
    {
     "name": "stdout",
     "output_type": "stream",
     "text": [
      "[65 65 65 65 65 65 66 66 66 66 66 66 66 66 66 66 67 67 67 67 67 67 67 67\n",
      " 67 67 67 68 68 68 68 68 68 68 68 69 69 69 69 69 69 69 69 69 69 69 69 69\n",
      " 69 69 69 69 70 70 70 70 70 70 70 70 70 70 70 70 70 71 71 71 71 71 71 71\n",
      " 71 71 71 71 71 71 72 72 72 72 72 72 72 72 72 72 72 72 72 72 73 73 73 73\n",
      " 73 73 73 73 73 73 73 73 73 73 73 73 74 74 74 74 74 74 74 74 74 74 74 74\n",
      " 74 74 74 74 74 75 75 75 75 75 75 75 75 75 75 75 75 76 76 76 76 76 76 76\n",
      " 76 76 76 76 76 76 76 76 77 77 77 77 77 77 77 77 77 77 77 77 78 78 78 78\n",
      " 78 78 78 78 78 78 78 78 78 78 78 78 78 78 79 79 79 79 79 79 79 80 80 80\n",
      " 81 81 81 81 82 82 82 82 83 83 84 84 84 84 84 85 85 85 85 85 86 86 87 87\n",
      " 87 88 88 89 89 89 89 90 91 91]\n",
      "[0.         0.00444444 0.00888889 0.01333333 0.01777778 0.02222222\n",
      " 0.02666667 0.03111111 0.03555556 0.04       0.04444444 0.04888889\n",
      " 0.05333333 0.05777778 0.06222222 0.06666667 0.07111111 0.07555556\n",
      " 0.08       0.08444444 0.08888889 0.09333333 0.09777778 0.10222222\n",
      " 0.10666667 0.11111111 0.11555556 0.12       0.12444444 0.12888889\n",
      " 0.13333333 0.13777778 0.14222222 0.14666667 0.15111111 0.15555556\n",
      " 0.16       0.16444444 0.16888889 0.17333333 0.17777778 0.18222222\n",
      " 0.18666667 0.19111111 0.19555556 0.2        0.20444444 0.20888889\n",
      " 0.21333333 0.21777778 0.22222222 0.22666667 0.23111111 0.23555556\n",
      " 0.24       0.24444444 0.24888889 0.25333333 0.25777778 0.26222222\n",
      " 0.26666667 0.27111111 0.27555556 0.28       0.28444444 0.28888889\n",
      " 0.29333333 0.29777778 0.30222222 0.30666667 0.31111111 0.31555556\n",
      " 0.32       0.32444444 0.32888889 0.33333333 0.33777778 0.34222222\n",
      " 0.34666667 0.35111111 0.35555556 0.36       0.36444444 0.36888889\n",
      " 0.37333333 0.37777778 0.38222222 0.38666667 0.39111111 0.39555556\n",
      " 0.4        0.40444444 0.40888889 0.41333333 0.41777778 0.42222222\n",
      " 0.42666667 0.43111111 0.43555556 0.44       0.44444444 0.44888889\n",
      " 0.45333333 0.45777778 0.46222222 0.46666667 0.47111111 0.47555556\n",
      " 0.48       0.48444444 0.48888889 0.49333333 0.49777778 0.50222222\n",
      " 0.50666667 0.51111111 0.51555556 0.52       0.52444444 0.52888889\n",
      " 0.53333333 0.53777778 0.54222222 0.54666667 0.55111111 0.55555556\n",
      " 0.56       0.56444444 0.56888889 0.57333333 0.57777778 0.58222222\n",
      " 0.58666667 0.59111111 0.59555556 0.6        0.60444444 0.60888889\n",
      " 0.61333333 0.61777778 0.62222222 0.62666667 0.63111111 0.63555556\n",
      " 0.64       0.64444444 0.64888889 0.65333333 0.65777778 0.66222222\n",
      " 0.66666667 0.67111111 0.67555556 0.68       0.68444444 0.68888889\n",
      " 0.69333333 0.69777778 0.70222222 0.70666667 0.71111111 0.71555556\n",
      " 0.72       0.72444444 0.72888889 0.73333333 0.73777778 0.74222222\n",
      " 0.74666667 0.75111111 0.75555556 0.76       0.76444444 0.76888889\n",
      " 0.77333333 0.77777778 0.78222222 0.78666667 0.79111111 0.79555556\n",
      " 0.8        0.80444444 0.80888889 0.81333333 0.81777778 0.82222222\n",
      " 0.82666667 0.83111111 0.83555556 0.84       0.84444444 0.84888889\n",
      " 0.85333333 0.85777778 0.86222222 0.86666667 0.87111111 0.87555556\n",
      " 0.88       0.88444444 0.88888889 0.89333333 0.89777778 0.90222222\n",
      " 0.90666667 0.91111111 0.91555556 0.92       0.92444444 0.92888889\n",
      " 0.93333333 0.93777778 0.94222222 0.94666667 0.95111111 0.95555556\n",
      " 0.96       0.96444444 0.96888889 0.97333333 0.97777778 0.98222222\n",
      " 0.98666667 0.99111111 0.99555556 1.        ]\n"
     ]
    },
    {
     "data": {
      "image/png": "[encoded data removed]",
      "text/plain": [
       "<Figure size 640x480 with 1 Axes>"
      ]
     },
     "metadata": {},
     "output_type": "display_data"
    }
   ],
   "source": [
    "x = np.sort(nutri.age)\n",
    "print(x)\n",
    "y = np.linspace (0,1,len(nutri.age))\n",
    "print(y)\n",
    "plt.step(x,y)\n",
    "plt.xlabel('age')\n",
    "plt.ylabel('Fn(x)')\n",
    "plt.xlim(min(x), max(x))\n",
    "plt.title('Empirical Cumulative Distribution Function', color='blue')\n",
    "plt.show ()\n",
    "\n",
    "\n",
    "# thing of the word cumulative and you will inderstand incha allah.\n",
    "\n",
    "#  The graphical representation depending t two variables \n",
    "\n",
    "\n",
    "\n",
    "\n",
    "\n"
   ]
  },
  {
   "cell_type": "markdown",
   "id": "becf0605",
   "metadata": {},
   "source": [
    "# DATA VISUATISATION RELATED TO TWO OR MORE VARIABLES "
   ]
  },
  {
   "cell_type": "markdown",
   "id": "31e818f1",
   "metadata": {},
   "source": [
    "## Two-way Plots for Two Categorical Variables"
   ]
  },
  {
   "cell_type": "code",
   "execution_count": 39,
   "id": "e5363630",
   "metadata": {},
   "outputs": [
    {
     "data": {
      "text/plain": [
       "Text(0, 0.5, 'Counts')"
      ]
     },
     "execution_count": 39,
     "metadata": {},
     "output_type": "execute_result"
    },
    {
     "data": {
      "image/png": "[encoded data removed]",
      "text/plain": [
       "<Figure size 640x480 with 1 Axes>"
      ]
     },
     "metadata": {},
     "output_type": "display_data"
    }
   ],
   "source": [
    "import seaborn as sns\n",
    "sns. countplot (x='situation',  hue = 'gender', data=nutri , \n",
    "                hue_order = ['Male', 'Female'], palette = ['black','red'],\n",
    "                saturation = 0.5, edgecolor ='black')\n",
    "plt.legend(loc='upper center')\n",
    "plt.xlabel('situation',color='green')\n",
    "plt.ylabel('Counts', color='green')"
   ]
  },
  {
   "cell_type": "code",
   "execution_count": 40,
   "id": "7ec49e8c",
   "metadata": {},
   "outputs": [],
   "source": [
    "#the hue is the distinguishable by the color in our case is the gender vector, data is the data_frme \n",
    "# x is the data in x axe \n",
    "# the explication of this plot is that we search how many man and woman single or ... that why we said the \n",
    "#'title of this part'"
   ]
  },
  {
   "cell_type": "markdown",
   "id": "0408464d",
   "metadata": {},
   "source": [
    "## Plots for Two Quantitative Variables"
   ]
  },
  {
   "cell_type": "code",
   "execution_count": 41,
   "id": "8eea04f6",
   "metadata": {},
   "outputs": [
    {
     "data": {
      "image/png": "[encoded data removed]",
      "text/plain": [
       "<Figure size 640x480 with 1 Axes>"
      ]
     },
     "metadata": {},
     "output_type": "display_data"
    }
   ],
   "source": [
    "plt.scatter(nutri.height , nutri.weight , s=12, marker= 'o')\n",
    "plt.xlabel('height')\n",
    "plt.ylabel('weight')\n",
    "plt.show ()"
   ]
  },
  {
   "cell_type": "code",
   "execution_count": 42,
   "id": "ed92b85d",
   "metadata": {},
   "outputs": [],
   "source": [
    "# the essentiel parameters are first for the x axe and th second for the y axe \n",
    "#the other parameters are optionnels s to adjust the size and the marker is by default in th o."
   ]
  },
  {
   "cell_type": "markdown",
   "id": "f83df72d",
   "metadata": {},
   "source": [
    "## Plots for One Qualitative and One Quantitative Variable"
   ]
  },
  {
   "cell_type": "code",
   "execution_count": 43,
   "id": "0dfc49d6",
   "metadata": {},
   "outputs": [
    {
     "data": {
      "image/png": "[encoded data removed]",
      "text/plain": [
       "<Figure size 640x480 with 1 Axes>"
      ]
     },
     "metadata": {},
     "output_type": "display_data"
    }
   ],
   "source": [
    "males = nutri[nutri.gender == 'Male']\n",
    "females = nutri[nutri.gender == 'Female']\n",
    "plt.boxplot ([ males.coffee ,females.coffee] ,notch=True, widths\n",
    "=(0.5 ,0.5))\n",
    "plt.xlabel('gender')\n",
    "plt.ylabel('coffee')\n",
    "plt.xticks ([1 ,2] ,['Male','Female'])\n",
    "plt.show ()"
   ]
  },
  {
   "cell_type": "code",
   "execution_count": 44,
   "id": "1ae2681e",
   "metadata": {},
   "outputs": [],
   "source": [
    "# the essential parameter is the list(the first parameter in the boxplot function )"
   ]
  },
  {
   "cell_type": "code",
   "execution_count": null,
   "id": "25af20e5",
   "metadata": {},
   "outputs": [],
   "source": []
  }
 ],
 "metadata": {
  "celltoolbar": "Format de la Cellule Texte Brut",
  "kernelspec": {
   "display_name": "Python 3 (ipykernel)",
   "language": "python",
   "name": "python3"
  },
  "language_info": {
   "codemirror_mode": {
    "name": "ipython",
    "version": 3
   },
   "file_extension": ".py",
   "mimetype": "text/x-python",
   "name": "python",
   "nbconvert_exporter": "python",
   "pygments_lexer": "ipython3",
   "version": "3.11.7"
  }
 },
 "nbformat": 4,
 "nbformat_minor": 5
}
